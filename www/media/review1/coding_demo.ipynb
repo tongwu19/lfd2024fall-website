{
 "cells": [
  {
   "cell_type": "markdown",
   "metadata": {
    "collapsed": true,
    "pycharm": {
     "name": "#%% md\n"
    }
   },
   "source": [
    "4 Parts in total:\n",
    "PART 1: Usage of String\n",
    "PART 2: Usage of List & Dictionary\n",
    "PART 3: Usage of Numpy\n",
    "PART 4: Usage of Matplotlib"
   ]
  },
  {
   "cell_type": "markdown",
   "metadata": {},
   "source": [
    "PART 1. Usage of String Formatting and Concatenation"
   ]
  },
  {
   "cell_type": "code",
   "execution_count": 4,
   "metadata": {
    "pycharm": {
     "name": "#%%\n"
    }
   },
   "outputs": [
    {
     "name": "stdout",
     "output_type": "stream",
     "text": [
      "Formatted with f-string: LFD, 2024\n",
      "Formatted with str.format():  LFD, 2024\n",
      "Formatted with % operator: LFD, 2024\n"
     ]
    }
   ],
   "source": [
    "# Example data\n",
    "string_value = \"LFD\"\n",
    "number_value = 2024\n",
    "\n",
    "# Formatting using f-string\n",
    "formatted_fstring = f\"Formatted with f-string: {string_value}, {number_value}\"\n",
    "print(formatted_fstring)\n",
    "\n",
    "# Formatting using str.format()\n",
    "formatted_str_format = \"Formatted with str.format():  {}, {}\".format(string_value, number_value)\n",
    "print(formatted_str_format)\n",
    "\n",
    "# Formatting using old-style % operator\n",
    "formatted_percent = \"Formatted with %% operator: %s, %d\" % (string_value, number_value)\n",
    "print(formatted_percent)"
   ]
  },
  {
   "cell_type": "code",
   "execution_count": 5,
   "metadata": {},
   "outputs": [
    {
     "name": "stdout",
     "output_type": "stream",
     "text": [
      "\n",
      "Concatenated with + operator:\n",
      "LFD 2024\n",
      "\n",
      "Concatenated with join method:\n",
      "LFD 2024\n"
     ]
    }
   ],
   "source": [
    "# String concatenation - using plus (+) operator\n",
    "str1 = \"LFD\"\n",
    "str2 = \"2024\"\n",
    "concat_plus = str1 + \" \" + str2\n",
    "print(\"\\nConcatenated with + operator:\")\n",
    "print(concat_plus)\n",
    "\n",
    "# String concatenation - using join() method\n",
    "str_list = [\"LFD\",\"2024\"]\n",
    "concat_join = \" \".join(str_list)\n",
    "print(\"\\nConcatenated with join method:\")\n",
    "print(concat_join)"
   ]
  },
  {
   "cell_type": "markdown",
   "metadata": {},
   "source": [
    "PART 2.Usage of data container: list and dictionary"
   ]
  },
  {
   "cell_type": "code",
   "execution_count": 7,
   "metadata": {
    "pycharm": {
     "name": "#%%\n"
    }
   },
   "outputs": [
    {
     "name": "stdout",
     "output_type": "stream",
     "text": [
      "Created list: [1, 2, 3]\n",
      "List after insertion: [1, 10, 2, 3]\n",
      "List after extension: [1, 10, 2, 3, 4, 5, 6]\n",
      "List with squared values: [1, 100, 4, 9, 16, 25, 36]\n"
     ]
    }
   ],
   "source": [
    "# List creation\n",
    "my_list = [1, 2, 3]\n",
    "print(\"Created list:\", my_list)\n",
    "\n",
    "# Insertion - adding an element at a specific index\n",
    "my_list.insert(1, 10)  # Insert 10 at index 1\n",
    "print(\"List after insertion:\", my_list)\n",
    "\n",
    "# Extension - adding multiple elements at the end\n",
    "my_list.extend([4, 5, 6])\n",
    "print(\"List after extension:\", my_list)\n",
    "\n",
    "# List comprehension - creating a new list with squared values\n",
    "squared_list = [x ** 2 for x in my_list]\n",
    "print(\"List with squared values:\", squared_list)\n"
   ]
  },
  {
   "cell_type": "code",
   "execution_count": 21,
   "metadata": {},
   "outputs": [
    {
     "name": "stdout",
     "output_type": "stream",
     "text": [
      "Dictionary with squared values: {0: 0, 1: 1, 2: 4, 3: 9, 4: 16}\n",
      "Name: Wutong\n",
      "Dictionary after adding new key-value pair: {'name': 'Wutong', 'age': 18, 'city': 'SZ', 'school': 'THU'}\n",
      "Dictionary after updating age: {'name': 'Wuchengfeng', 'age': 18, 'city': 'SZ', 'school': 'THU'}\n",
      "Removed value: SZ\n",
      "Dictionary after removing 'city': {'name': 'Wuchengfeng', 'age': 18, 'school': 'THU'}\n",
      "Does 'name' exist in dictionary? True\n",
      "Iterating over dictionary items:\n",
      "Key: name, Value: Wuchengfeng\n",
      "Key: age, Value: 18\n",
      "Key: school, Value: THU\n"
     ]
    }
   ],
   "source": [
    "# Dictionary creation - creating a new dictionary with squared values of numbers\n",
    "numbers_dict = {x: x ** 2 for x in range(5)}\n",
    "print(\"Dictionary with squared values:\", numbers_dict)\n",
    "\n",
    "# Dictionary creation\n",
    "my_dict = {\n",
    "    'name': 'Wutong',\n",
    "    'age': 18,\n",
    "    'city': 'SZ'\n",
    "}\n",
    "\n",
    "# Accessing values by key\n",
    "name = my_dict['name']\n",
    "print(\"Name:\", name)\n",
    "\n",
    "# Adding a new key-value pair\n",
    "my_dict['school'] = 'THU'\n",
    "print(\"Dictionary after adding new key-value pair:\", my_dict)\n",
    "\n",
    "# Updating an existing key-value pair\n",
    "my_dict['name'] = 'Wuchengfeng'\n",
    "print(\"Dictionary after updating age:\", my_dict)\n",
    "\n",
    "# Removing a key-value pair using pop\n",
    "removed_value = my_dict.pop('city')\n",
    "print(\"Removed value:\", removed_value)\n",
    "print(\"Dictionary after removing 'city':\", my_dict)\n",
    "\n",
    "# Checking if a key exists in the dictionary\n",
    "key_exists = 'name' in my_dict\n",
    "print(\"Does 'name' exist in dictionary?\", key_exists)\n",
    "\n",
    "# Iterating over dictionary keys and values\n",
    "print(\"Iterating over dictionary items:\")\n",
    "for key, value in my_dict.items():\n",
    "    print(f\"Key: {key}, Value: {value}\")"
   ]
  },
  {
   "cell_type": "markdown",
   "metadata": {},
   "source": [
    "PART 3.Usage of numpy: Initialize, Element-wise multiplication, Dot product (for 1D arrays), Matrix multiplication (for 2D arrays),Element-wise multiplication (for 2D arrays) ; Broadcasting ;vectorization. "
   ]
  },
  {
   "cell_type": "code",
   "execution_count": 22,
   "metadata": {
    "pycharm": {
     "name": "#%%\n"
    }
   },
   "outputs": [
    {
     "name": "stdout",
     "output_type": "stream",
     "text": [
      "1D array: [1 2 3]\n",
      "2D array (matrix):\n",
      "[[1 2]\n",
      " [3 4]]\n",
      "3D array (tensor):\n",
      "[[[1 2]\n",
      "  [3 4]]\n",
      "\n",
      " [[5 6]\n",
      "  [7 8]]]\n"
     ]
    }
   ],
   "source": [
    "import numpy as np\n",
    "\n",
    "# Initialize 1D array\n",
    "array1d = np.array([1, 2, 3])\n",
    "print(\"1D array:\", array1d)\n",
    "\n",
    "# Initialize 2D array (matrix)\n",
    "array2d = np.array([[1, 2], [3, 4]])\n",
    "print(\"2D array (matrix):\")\n",
    "print(array2d)\n",
    "\n",
    "# Initialize 3D array (tensor)\n",
    "array3d = np.array([[[1, 2], [3, 4]], [[5, 6], [7, 8]]])\n",
    "print(\"3D array (tensor):\")\n",
    "print(array3d)"
   ]
  },
  {
   "cell_type": "code",
   "execution_count": 23,
   "metadata": {},
   "outputs": [
    {
     "name": "stdout",
     "output_type": "stream",
     "text": [
      "Element-wise multiplication:\n",
      "[[2 0]\n",
      " [0 8]]\n",
      "Dot product of 1D arrays: 32\n",
      "Matrix multiplication:\n",
      "[[1 2]\n",
      " [3 4]]\n"
     ]
    }
   ],
   "source": [
    "# Element-wise multiplication\n",
    "elementwise_mult = array2d * np.array([[2, 0], [0, 2]])\n",
    "print(\"Element-wise multiplication:\")\n",
    "print(elementwise_mult)\n",
    "\n",
    "# Dot product (for 1D arrays)\n",
    "dot_product = np.dot(array1d, np.array([4, 5, 6]))\n",
    "print(\"Dot product of 1D arrays:\", dot_product)\n",
    "\n",
    "# Matrix multiplication (for 2D arrays)\n",
    "matrix_mult = np.dot(array2d, np.array([[1, 0], [0, 1]]))\n",
    "print(\"Matrix multiplication:\")\n",
    "print(matrix_mult)\n"
   ]
  },
  {
   "cell_type": "code",
   "execution_count": 13,
   "metadata": {},
   "outputs": [
    {
     "name": "stdout",
     "output_type": "stream",
     "text": [
      "[6 7 8]\n",
      "[[0 1 2]\n",
      " [3 4 5]\n",
      " [6 7 8]]\n",
      "[[ 1  3  5]\n",
      " [ 4  6  8]\n",
      " [ 7  9 11]]\n",
      "[[ 1  2  3]\n",
      " [ 5  6  7]\n",
      " [ 9 10 11]]\n"
     ]
    }
   ],
   "source": [
    "# Broadcasting\n",
    "# Example 1: Broadcasting a scalar to a 1D array\n",
    "a = np.array([1, 2, 3])\n",
    "scalar = 5\n",
    "result = a + scalar\n",
    "print(result)\n",
    "\n",
    "# Example 2: Broadcasting a 2D array\n",
    "op1 = np.array([i for i in range(9)]).reshape(3, 3)\n",
    "print(op1)\n",
    "op2 = np.array([[1, 2, 3]])\n",
    "print(op1 + op2)\n",
    "print(op1 + op2.T)\n",
    "# Notice that the results here are DIFFERENT!"
   ]
  },
  {
   "cell_type": "code",
   "execution_count": 16,
   "metadata": {},
   "outputs": [],
   "source": [
    "# Why should I vectorize my code?\n",
    "# Shorter code, faster execution\n",
    "a = np.random.random(500000)\n",
    "b = np.random.random(500000)\n",
    "# Without vectorization\n",
    "dot = 0.0\n",
    "for i in range(len(a)):\n",
    "    dot += a[i] * b[i]\n",
    "# Costs 345ms\n",
    "\n",
    "# With vectorization\n",
    "dot = a.dot(b)\n",
    "# Costs only 3ms"
   ]
  },
  {
   "cell_type": "markdown",
   "metadata": {},
   "source": [
    "PART 4. Usage of matplotlib"
   ]
  },
  {
   "cell_type": "code",
   "execution_count": 24,
   "metadata": {
    "pycharm": {
     "name": "#%%\n"
    }
   },
   "outputs": [
    {
     "data": {
      "image/png": "[encoded data removed]",
      "text/plain": [
       "<Figure size 432x288 with 1 Axes>"
      ]
     },
     "metadata": {
      "needs_background": "light"
     },
     "output_type": "display_data"
    }
   ],
   "source": [
    "import matplotlib.pyplot as plt\n",
    "\n",
    "# Generate sample data\n",
    "x = np.linspace(0, 10, 100)  # Generate 100 points from 0 to 10\n",
    "y1 = np.sin(x)  # Compute the sine of each x value\n",
    "y2 = np.cos(x)  # Compute the cosine of each x value\n",
    "\n",
    "# Create a new figure\n",
    "plt.figure()\n",
    "\n",
    "# Plot the curve\n",
    "plt.plot(x, y1, 'r--', label='Sine Curve')\n",
    "plt.plot(x, y2, 'b-', label='Cosine Curve')\n",
    " # Plot x and y with a label for the legend\n",
    "\n",
    "# Add grid\n",
    "plt.grid(True)  # Enable the grid\n",
    "\n",
    "# Add legend\n",
    "plt.legend()  # Display the legend\n",
    "\n",
    "# Add x and y axis labels\n",
    "plt.xlabel('X axis')  # Label for x-axis\n",
    "plt.ylabel('Y axis')  # Label for y-axis\n",
    "\n",
    "# Add a title\n",
    "plt.title('Sine and Cosine Curve Example')  # Title of the plot\n",
    "\n",
    "# Set x and y axis limits\n",
    "plt.xlim(0, 10)  # Limit x-axis from 0 to 10\n",
    "plt.ylim(-1.5, 1.5)  # Limit y-axis from -1.5 to 1.5\n",
    "\n",
    "# Show the plot\n",
    "plt.show()\n"
   ]
  },
  {
   "cell_type": "code",
   "execution_count": 18,
   "metadata": {},
   "outputs": [
    {
     "data": {
      "image/png": "[encoded data removed]",
      "text/plain": [
       "<Figure size 720x288 with 2 Axes>"
      ]
     },
     "metadata": {
      "needs_background": "light"
     },
     "output_type": "display_data"
    }
   ],
   "source": [
    "# Example of using subplots\n",
    "fig, (ax1, ax2) = plt.subplots(1, 2, figsize=(10, 4))  # Create a figure with 1 row and 2 columns of subplots\n",
    "\n",
    "# First subplot\n",
    "ax1.plot(x, y1, 'r-', label='Sine Curve')  # Plot on the first subplot with red line\n",
    "ax1.set_title('First Subplot')  # Title for the first subplot\n",
    "ax1.set_xlabel('X axis')  # x-axis label for the first subplot\n",
    "ax1.set_ylabel('Y axis')  # y-axis label for the first subplot\n",
    "ax1.grid(True)  # Add grid to the first subplot\n",
    "ax1.legend()  # Add legend to the first subplot\n",
    "\n",
    "# Second subplot with different data\n",
    "ax2.plot(x, y2, 'b-', label='Cosine Curve')  # Plot on the second subplot with blue line\n",
    "ax2.set_title('Second Subplot')  # Title for the second subplot\n",
    "ax2.set_xlabel('X axis')  # x-axis label for the second subplot\n",
    "ax2.set_ylabel('Y axis')  # y-axis label for the second subplot\n",
    "ax2.grid(True)  # Add grid to the second subplot\n",
    "ax2.legend()  # Add legend to the second subplot\n",
    "\n",
    "# Adjust layout to prevent overlap\n",
    "plt.tight_layout()\n",
    "\n",
    "# Show the subplots\n",
    "plt.show()"
   ]
  }
 ],
 "metadata": {
  "kernelspec": {
   "display_name": "Python 3 (ipykernel)",
   "language": "python",
   "name": "python3"
  },
  "language_info": {
   "codemirror_mode": {
    "name": "ipython",
    "version": 3
   },
   "file_extension": ".py",
   "mimetype": "text/x-python",
   "name": "python",
   "nbconvert_exporter": "python",
   "pygments_lexer": "ipython3",
   "version": "3.7.4"
  }
 },
 "nbformat": 4,
 "nbformat_minor": 1
}
